{
 "cells": [
  {
   "cell_type": "markdown",
   "id": "30c5ef7a",
   "metadata": {},
   "source": [
    "# Data Preprocessing"
   ]
  },
  {
   "cell_type": "code",
   "execution_count": 1,
   "id": "9087d33a",
   "metadata": {},
   "outputs": [],
   "source": [
    "# Libraries\n",
    "import librosa\n",
    "import numpy as np\n",
    "import pandas as pd\n",
    "import os\n",
    "import matplotlib.pyplot as plt\n",
    "import soundfile\n",
    "import include \n",
    "from sklearn.preprocessing import LabelEncoder\n",
    "from sklearn.preprocessing import StandardScaler\n",
    "from sklearn.model_selection import StratifiedKFold\n",
    "from sklearn.neural_network import MLPClassifier\n",
    "from sklearn.metrics import confusion_matrix, accuracy_score"
   ]
  },
  {
   "cell_type": "markdown",
   "id": "2175c63a",
   "metadata": {},
   "source": [
    "## Basic Setup"
   ]
  },
  {
   "cell_type": "code",
   "execution_count": 2,
   "id": "160ac89d",
   "metadata": {},
   "outputs": [],
   "source": [
    "# Diretory\n",
    "os.chdir(r'Downloads')"
   ]
  },
  {
   "cell_type": "code",
   "execution_count": 3,
   "id": "04bff05a",
   "metadata": {},
   "outputs": [],
   "source": [
    "# Paths\n",
    "urbansound8_path = os.path.abspath('./UrbanSound8K' )\n",
    "metadata_path = os.path.join(urbansound8_path, 'metadata/UrbanSound8K.csv')\n",
    "metadata = pd.read_csv(metadata_path)\n",
    "audio_path = os.path.join(urbansound8_path, 'audio')\n",
    "processed_audio_path = os.path.join(urbansound8_path, 'processed_audio')\n",
    "# Check if the folder exists, and if not, create it\n",
    "if not os.path.exists(processed_audio_path):\n",
    "    os.makedirs(processed_audio_path)"
   ]
  },
  {
   "cell_type": "code",
   "execution_count": 6,
   "id": "b2e56f2a",
   "metadata": {},
   "outputs": [],
   "source": [
    "for fold in range(1, 11):\n",
    "    # Create the new 10 folders on processed_audio_path\n",
    "    os.makedirs(os.path.join(processed_audio_path, 'fold' + str(fold)), exist_ok=True)"
   ]
  },
  {
   "cell_type": "code",
   "execution_count": 4,
   "id": "1c83bc24",
   "metadata": {},
   "outputs": [],
   "source": [
    "# Variables\n",
    "duration = 4\n",
    "sample_rate = 44100\n",
    "length = duration*sample_rate\n",
    "hop_length=round(sample_rate*0.0125) # number of samples between successive frames\n",
    "win_length=round(sample_rate*0.023) # number of samples in each frame for the STFT"
   ]
  },
  {
   "cell_type": "markdown",
   "id": "aa5a11f6",
   "metadata": {},
   "source": [
    "## Pre-processing the audios"
   ]
  },
  {
   "cell_type": "markdown",
   "id": "02139822",
   "metadata": {},
   "source": [
    "Our objective on pre-processing the audios is to uniform and normalize the netword input.\n",
    "To do that, for each audio we:\n",
    "- turned it into a 4 seconds audio;\n",
    "- normalized it to a [-1, 1] range"
   ]
  },
  {
   "cell_type": "code",
   "execution_count": 12,
   "id": "42487d3f",
   "metadata": {},
   "outputs": [],
   "source": [
    "def normalize_audio(audio):\n",
    "    # Normalize the audio to the following range: [-1, 1]\n",
    "    audio = librosa.util.normalize(audio)\n",
    "    return audio"
   ]
  },
  {
   "cell_type": "code",
   "execution_count": 13,
   "id": "7f461353",
   "metadata": {},
   "outputs": [],
   "source": [
    "def preprocess_audio(file, length, sample_rate):\n",
    "    # Objective: turn all the files into 4-sec audios\n",
    "\n",
    "    audio, sr = librosa.load(file, sr=sample_rate)\n",
    "    audio = normalize_audio(audio)\n",
    "\n",
    "    if len(audio) > length:\n",
    "        audio = audio[:length]\n",
    "        \n",
    "    elif len(audio) < length:\n",
    "        padding = length - len(audio)\n",
    "        audio = np.pad(audio, (0, padding), 'constant')\n",
    "\n",
    "    return audio, sample_rate"
   ]
  },
  {
   "cell_type": "code",
   "execution_count": 10,
   "id": "0b6c6f5b",
   "metadata": {},
   "outputs": [],
   "source": [
    "for index, row in metadata.iterrows():\n",
    "    # Construct the file path for the original audio\n",
    "    file = os.path.join(audio_path, 'fold' + str(row['fold']), row['slice_file_name'])\n",
    "\n",
    "    if os.path.exists(file):\n",
    "        # Construct the file path for saving the processed audio\n",
    "        audio, sr = preprocess_audio(file, length, sample_rate)\n",
    "        processed_file_path = os.path.join(processed_audio_path, 'fold' + str(row['fold']), row['slice_file_name'])\n",
    "        \n",
    "        # Save the processed audio in .wav format using soundfile\n",
    "        soundfile.write(processed_file_path.replace('.npy', '.wav'), audio, sr)\n",
    "    else:\n",
    "        print(f\"File not found: {file}\")\n"
   ]
  },
  {
   "cell_type": "markdown",
   "id": "0117ac2c",
   "metadata": {},
   "source": [
    "## Testing an example"
   ]
  },
  {
   "cell_type": "markdown",
   "id": "a531ae6c",
   "metadata": {},
   "source": [
    "Here we are going to see the spectrogram of an audio based on:\n",
    "- mel-frequency cepstral coefficients (MFCC);\n",
    "- mel-scalled;"
   ]
  },
  {
   "cell_type": "code",
   "execution_count": 14,
   "id": "bd2c8381",
   "metadata": {},
   "outputs": [],
   "source": [
    "# Get a random file\n",
    "row = metadata.sample(3)\n",
    "file_path = processed_audio_path + '\\\\fold'+ str(row.iloc[0,5]) + '\\\\' + str(row.iloc[0,0])\n",
    "\n",
    "# Load audio file\n",
    "audio_data, sr = librosa.load(file_path)"
   ]
  },
  {
   "cell_type": "code",
   "execution_count": 53,
   "id": "c573e8d9",
   "metadata": {
    "scrolled": true
   },
   "outputs": [
    {
     "data": {
      "image/png": "[encoded data removed]",
      "text/plain": [
       "<Figure size 1200x400 with 2 Axes>"
      ]
     },
     "metadata": {},
     "output_type": "display_data"
    }
   ],
   "source": [
    "# Generate MFCC coefficients\n",
    "mfcc = librosa.feature.mfcc(y=audio_data, sr=sample_rate, n_mfcc=40)\n",
    "\n",
    "# Plot spectrogram\n",
    "plt.figure(figsize=(12, 4))\n",
    "librosa.display.specshow(mfcc, x_axis='time', y_axis='mel')\n",
    "plt.colorbar()\n",
    "plt.title('MFCC')\n",
    "plt.tight_layout()\n",
    "plt.show()"
   ]
  },
  {
   "cell_type": "code",
   "execution_count": 55,
   "id": "411e8e51",
   "metadata": {},
   "outputs": [
    {
     "data": {
      "image/png": "[encoded data removed]",
      "text/plain": [
       "<Figure size 1200x400 with 2 Axes>"
      ]
     },
     "metadata": {},
     "output_type": "display_data"
    }
   ],
   "source": [
    "n_mels = 128\n",
    "n_fft = 2048\n",
    "\n",
    "stft = librosa.core.stft(audio_data, n_fft=n_fft, hop_length=hop_length)\n",
    "\n",
    "# Generate mel scaled spectrogram\n",
    "# mel = librosa.feature.melspectrogram(y=audio_data, sr=sample_rate, n_fft=n_fft, hop_length=hop_length, win_length=win_length)\n",
    "mel = librosa.feature.melspectrogram(S=stft, n_mels=n_mels)\n",
    "\n",
    "# Convert sound intensity to log amplitude:\n",
    "mel_db = librosa.amplitude_to_db(abs(mel))\n",
    "\n",
    "# Normalize between -1 and 1\n",
    "# normalized_mel = librosa.util.normalize(mel_db)\n",
    "\n",
    "# Plot spectrogram from STFT\n",
    "plt.figure(figsize=(12, 4))\n",
    "librosa.display.specshow(mel_db, x_axis='time', y_axis='mel')\n",
    "plt.colorbar(format='%+2.0f dB');\n",
    "plt.title('MEL-Scaled Spectrogram')\n",
    "plt.tight_layout()\n",
    "plt.show()"
   ]
  },
  {
   "cell_type": "markdown",
   "id": "94bc627e",
   "metadata": {},
   "source": [
    "## Feature extraction"
   ]
  },
  {
   "cell_type": "markdown",
   "id": "4188c0ef",
   "metadata": {},
   "source": [
    "Now we are going to extract the features of the dataset via 2 methods we already said before:\n",
    "- mel-frequency cepstral coefficients (MFCC);\n",
    "- mel-scalled;\n",
    "\n",
    "MFCC features will be used for the multilayer perceptron (MLP).                              \n",
    "Mel-scalled spectrograms will be the input for the CNN-based classifier."
   ]
  },
  {
   "cell_type": "markdown",
   "id": "ac5bf4e2",
   "metadata": {},
   "source": [
    "### With MFCC"
   ]
  },
  {
   "cell_type": "code",
   "execution_count": 23,
   "id": "f9b0ff61",
   "metadata": {},
   "outputs": [
    {
     "name": "stdout",
     "output_type": "stream",
     "text": [
      "Status: 251/8732\n",
      "Status: 501/8732\n",
      "Status: 751/8732\n",
      "Status: 1001/8732\n",
      "Status: 1251/8732\n",
      "Status: 1501/8732\n",
      "Status: 1751/8732\n",
      "Status: 2001/8732\n",
      "Status: 2251/8732\n",
      "Status: 2501/8732\n",
      "Status: 2751/8732\n",
      "Status: 3001/8732\n",
      "Status: 3251/8732\n",
      "Status: 3501/8732\n",
      "Status: 3751/8732\n",
      "Status: 4001/8732\n",
      "Status: 4251/8732\n",
      "Status: 4501/8732\n",
      "Status: 4751/8732\n",
      "Status: 5001/8732\n",
      "Status: 5251/8732\n",
      "Status: 5501/8732\n",
      "Status: 5751/8732\n",
      "Status: 6001/8732\n",
      "Status: 6251/8732\n",
      "Status: 6501/8732\n",
      "Status: 6751/8732\n",
      "Status: 7001/8732\n",
      "Status: 7251/8732\n",
      "Status: 7501/8732\n",
      "Status: 7751/8732\n",
      "Status: 8001/8732\n",
      "Status: 8251/8732\n",
      "Status: 8501/8732\n",
      "Finished: 8731/8732\n"
     ]
    }
   ],
   "source": [
    "# Iterate through all audio files and extract MFCC\n",
    "# mfcc -> mel-frequency cepstral coefficients\n",
    "features_mfcc = []\n",
    "labels_mfcc = [] # to list the classes on the df we will create later\n",
    "folds_mfcc = [] # to list the folds on the df we will create later\n",
    "audios_mfcc = [] # to list the audios on the df we will create later\n",
    "frames_max = 0\n",
    "counter = 0\n",
    "total_samples = len(metadata)\n",
    "n_mfcc = 40\n",
    "\n",
    "for index, row in metadata.iterrows():\n",
    "    # getting the path\n",
    "    file_path = os.path.join(os.path.abspath(processed_audio_path), 'fold' + str(row[\"fold\"]), str(row[\"slice_file_name\"]))\n",
    "    class_label = row[\"class\"]\n",
    "    fold_value = row[\"fold\"]\n",
    "    audio_name = row[\"slice_file_name\"]\n",
    "\n",
    "    # extract the MFCCs\n",
    "    audio_data, sr = librosa.load(file_path)\n",
    "    mfccs = librosa.feature.mfcc(y=audio_data, sr=sample_rate, n_mfcc=n_mfcc)\n",
    "    \n",
    "    # save current frame count\n",
    "    num_frames = mfccs.shape[1]\n",
    "    \n",
    "    # add row\n",
    "    features_mfcc.append(mfccs)\n",
    "    labels_mfcc.append(class_label)\n",
    "    folds_mfcc.append(fold_value)\n",
    "    audios_mfcc.append(audio_name)\n",
    "\n",
    "    # Update frames maximum\n",
    "    if (num_frames > frames_max):\n",
    "        frames_max = num_frames\n",
    "\n",
    "    # Notify update every N files\n",
    "    if (counter == 250):\n",
    "        print(\"Status: {}/{}\".format(index+1, total_samples))\n",
    "        counter = 0\n",
    "\n",
    "    counter += 1\n",
    "    \n",
    "print(\"Finished: {}/{}\".format(index, total_samples))"
   ]
  },
  {
   "cell_type": "code",
   "execution_count": 24,
   "id": "587af153",
   "metadata": {},
   "outputs": [],
   "source": [
    "# Add padding to features\n",
    "padded_features_mfcc = []\n",
    "for mfcc in features_mfcc:\n",
    "    pad_width = frames_max - mfcc.shape[1]\n",
    "    padded_mfcc = np.pad(mfcc, pad_width=((0, 0), (0, pad_width)), mode='constant')\n",
    "    padded_features_mfcc.append(padded_mfcc)\n",
    "\n",
    "# Convert features to a numpy array\n",
    "features_array_mfcc = np.array(padded_features_mfcc)"
   ]
  },
  {
   "cell_type": "code",
   "execution_count": 25,
   "id": "ba349add",
   "metadata": {},
   "outputs": [
    {
     "name": "stdout",
     "output_type": "stream",
     "text": [
      "Raw features length: 8732\n",
      "Padded features length: 8732\n",
      "Feature labels length: 8732\n"
     ]
    }
   ],
   "source": [
    "# Verify shapes\n",
    "print(\"Raw features length: {}\".format(len(features_mfcc)))\n",
    "print(\"Padded features length: {}\".format(len(padded_features_mfcc)))\n",
    "print(\"Feature labels length: {}\".format(len(labels_mfcc)))"
   ]
  },
  {
   "cell_type": "code",
   "execution_count": 26,
   "id": "23cbc817",
   "metadata": {},
   "outputs": [],
   "source": [
    "# Convert features (X) and labels (y) to Numpy arrays\n",
    "X_mfcc = np.array(features_array_mfcc)\n",
    "y_mfcc = np.array(labels_mfcc)\n",
    "\n",
    "# Specify the directory to save data\n",
    "data_folder = os.path.join(urbansound8_path, 'data')\n",
    "\n",
    "# Check if the data folder exists, if not, create it\n",
    "if not os.path.exists(data_folder):\n",
    "    os.makedirs(data_folder)\n",
    "\n",
    "\n",
    "# Save the features and labels to disk\n",
    "np.save(os.path.join(data_folder, \"X-mfcc.npy\"), X_mfcc)\n",
    "np.save(os.path.join(data_folder, \"y-mfcc.npy\"), y_mfcc)"
   ]
  },
  {
   "cell_type": "markdown",
   "id": "e71f2879",
   "metadata": {},
   "source": [
    "### With Mel-scaled"
   ]
  },
  {
   "cell_type": "code",
   "execution_count": 27,
   "id": "75ad02a2",
   "metadata": {},
   "outputs": [
    {
     "name": "stdout",
     "output_type": "stream",
     "text": [
      "Status: 251/8732\n",
      "Status: 501/8732\n",
      "Status: 751/8732\n",
      "Status: 1001/8732\n",
      "Status: 1251/8732\n",
      "Status: 1501/8732\n",
      "Status: 1751/8732\n",
      "Status: 2001/8732\n",
      "Status: 2251/8732\n",
      "Status: 2501/8732\n",
      "Status: 2751/8732\n",
      "Status: 3001/8732\n",
      "Status: 3251/8732\n",
      "Status: 3501/8732\n"
     ]
    },
    {
     "name": "stderr",
     "output_type": "stream",
     "text": [
      "C:\\Users\\Joao Silva\\AppData\\Roaming\\Python\\Python311\\site-packages\\librosa\\core\\spectrum.py:257: UserWarning: n_fft=2048 is too large for input signal of length=1323\n",
      "  warnings.warn(\n"
     ]
    },
    {
     "name": "stdout",
     "output_type": "stream",
     "text": [
      "Status: 3751/8732\n",
      "Status: 4001/8732\n",
      "Status: 4251/8732\n",
      "Status: 4501/8732\n",
      "Status: 4751/8732\n",
      "Status: 5001/8732\n",
      "Status: 5251/8732\n",
      "Status: 5501/8732\n",
      "Status: 5751/8732\n",
      "Status: 6001/8732\n",
      "Status: 6251/8732\n",
      "Status: 6501/8732\n",
      "Status: 6751/8732\n",
      "Status: 7001/8732\n",
      "Status: 7251/8732\n",
      "Status: 7501/8732\n",
      "Status: 7751/8732\n",
      "Status: 8001/8732\n",
      "Status: 8251/8732\n"
     ]
    },
    {
     "name": "stderr",
     "output_type": "stream",
     "text": [
      "C:\\Users\\Joao Silva\\AppData\\Roaming\\Python\\Python311\\site-packages\\librosa\\core\\spectrum.py:257: UserWarning: n_fft=2048 is too large for input signal of length=1103\n",
      "  warnings.warn(\n",
      "C:\\Users\\Joao Silva\\AppData\\Roaming\\Python\\Python311\\site-packages\\librosa\\core\\spectrum.py:257: UserWarning: n_fft=2048 is too large for input signal of length=1523\n",
      "  warnings.warn(\n"
     ]
    },
    {
     "name": "stdout",
     "output_type": "stream",
     "text": [
      "Status: 8501/8732\n",
      "Finished: 8731/8732\n"
     ]
    }
   ],
   "source": [
    "# Iterate through all audio files and extract Log-Mel Spectrograms\n",
    "# mels -> mel-scaled\n",
    "features_mels = []\n",
    "labels_mels = [] # to list the classes on the df we will create later\n",
    "folds_mels = [] # to list the folds on the df we will create later\n",
    "audios_mels = [] # to list the audios on the df we will create later\n",
    "frames_max = 0\n",
    "counter = 0\n",
    "total_samples = len(metadata)\n",
    "n_mels=40\n",
    "\n",
    "for index, row in metadata.iterrows():\n",
    "    file_path = os.path.join(os.path.abspath(audio_path), 'fold' + str(row[\"fold\"]), str(row[\"slice_file_name\"]))\n",
    "    class_label = row[\"class\"]\n",
    "    fold_value = row[\"fold\"]\n",
    "    audio_name = row[\"slice_file_name\"]\n",
    "\n",
    "    # Extract Log-Mel Spectrograms (do not add padding)\n",
    "    audio_data, sr = librosa.load(file_path)\n",
    "    mels = librosa.feature.melspectrogram(y = audio_data, sr=sample_rate, n_mels=n_mels)\n",
    "    \n",
    "    # Save current frame count\n",
    "    num_frames = mels.shape[1]\n",
    "    \n",
    "    # Add row (feature / label)\n",
    "    features_mels.append(mels)\n",
    "    labels_mels.append(class_label)\n",
    "    folds_mels.append(fold_value)\n",
    "    audios_mels.append(audio_name)\n",
    "\n",
    "    # Update frames maximum\n",
    "    if (num_frames > frames_max):\n",
    "        frames_max = num_frames\n",
    "\n",
    "    # Notify update every N files\n",
    "    if (counter == 250):\n",
    "        print(\"Status: {}/{}\".format(index+1, total_samples))\n",
    "        counter = 0\n",
    "\n",
    "    counter += 1\n",
    "    \n",
    "print(\"Finished: {}/{}\".format(index, total_samples))"
   ]
  },
  {
   "cell_type": "code",
   "execution_count": 28,
   "id": "fa83d704",
   "metadata": {},
   "outputs": [],
   "source": [
    "# Add padding to features\n",
    "padded_features_mels = []\n",
    "for mels in features_mels:\n",
    "    pad_width = frames_max - mels.shape[1]\n",
    "    padded_mels = np.pad(mels, pad_width=((0, 0), (0, pad_width)), mode='constant')\n",
    "    padded_features_mels.append(padded_mels)\n",
    "\n",
    "# Convert features to a numpy array\n",
    "features_array_mels = np.array(padded_features_mels)\n",
    "\n",
    "# Add padding to features\n",
    "# padded_features_mels = np.zeros((features_array_mels.shape[0], n_mels, frames_max))\n",
    "# padded_features_mels[:, :, :features_array_mels.shape[2]] = features_array_mels"
   ]
  },
  {
   "cell_type": "code",
   "execution_count": 29,
   "id": "218bb21d",
   "metadata": {},
   "outputs": [
    {
     "name": "stdout",
     "output_type": "stream",
     "text": [
      "Raw features length: 8732\n",
      "Padded features length: 8732\n",
      "Feature labels length: 8732\n"
     ]
    }
   ],
   "source": [
    "# Verify shapes\n",
    "print(\"Raw features length: {}\".format(len(features_mels)))\n",
    "print(\"Padded features length: {}\".format(len(padded_features_mels)))\n",
    "print(\"Feature labels length: {}\".format(len(labels_mels)))"
   ]
  },
  {
   "cell_type": "code",
   "execution_count": 31,
   "id": "9664a4d1",
   "metadata": {},
   "outputs": [],
   "source": [
    "# Convert features (X) and labels (y) to Numpy arrays\n",
    "X_mels = np.array(features_array_mels)\n",
    "y_mels = np.array(labels_mels)\n",
    "\n",
    "# Specify the directory to save data\n",
    "data_folder = os.path.join(urbansound8_path, 'data')\n",
    "\n",
    "# Check if the data folder exists, if not, create it\n",
    "if not os.path.exists(data_folder):\n",
    "    os.makedirs(data_folder)\n",
    "\n",
    "np.save(os.path.join(data_folder, \"X-mel_spec.npy\"), X_mels)\n",
    "# np.save(os.path.join(data_folder, \"y-mel_spec.npy\"), y_mels)"
   ]
  },
  {
   "cell_type": "markdown",
   "id": "197f7e86",
   "metadata": {},
   "source": [
    "## Comparing mfcc and mel-scaled features"
   ]
  },
  {
   "cell_type": "code",
   "execution_count": 32,
   "id": "7170fb0f",
   "metadata": {
    "scrolled": true
   },
   "outputs": [
    {
     "name": "stdout",
     "output_type": "stream",
     "text": [
      "[[[-3.66446503e+02 -2.16544159e+02 -1.44949570e+02 ... -6.61022888e+02\n",
      "   -6.61022888e+02 -6.61022888e+02]\n",
      "  [ 6.75429688e+01  2.17912712e+01 -5.27944946e+00 ...  0.00000000e+00\n",
      "    0.00000000e+00  0.00000000e+00]\n",
      "  [-1.50513275e+02 -1.61633728e+02 -1.69888687e+02 ...  0.00000000e+00\n",
      "    0.00000000e+00  0.00000000e+00]\n",
      "  ...\n",
      "  [ 1.00451536e+01  1.07208214e+01  4.24735498e+00 ...  0.00000000e+00\n",
      "    0.00000000e+00  0.00000000e+00]\n",
      "  [ 7.90424013e+00  1.05054169e+01  1.42989278e-01 ...  0.00000000e+00\n",
      "    0.00000000e+00  0.00000000e+00]\n",
      "  [ 3.68406844e+00  1.03816109e+01  3.38548446e+00 ...  0.00000000e+00\n",
      "    0.00000000e+00  0.00000000e+00]]\n",
      "\n",
      " [[-1.54015915e+02 -1.11956421e+02 -1.05551506e+02 ... -9.10656357e+01\n",
      "   -8.94637909e+01 -1.05618950e+02]\n",
      "  [ 9.22792511e+01  1.03236496e+02  1.02602249e+02 ...  7.59497681e+01\n",
      "    7.45156784e+01  7.32919006e+01]\n",
      "  [-1.14562340e+01 -7.97199535e+00 -1.14440546e+01 ... -1.54653912e+01\n",
      "   -1.32465868e+01 -1.68519058e+01]\n",
      "  ...\n",
      "  [-1.90774965e+00  9.78440464e-01  3.95967245e+00 ...  1.56092615e+01\n",
      "    1.56494865e+01  1.18134203e+01]\n",
      "  [-7.96605492e+00 -4.96157885e+00  3.13315153e-01 ...  1.42589407e+01\n",
      "    5.23360109e+00  2.26530385e+00]\n",
      "  [-8.16994667e-01  5.20061255e+00  5.12010002e+00 ... -4.28568268e+00\n",
      "   -8.55427074e+00 -4.74533606e+00]]\n",
      "\n",
      " [[-9.47203598e+01 -6.90708313e+01 -7.79608383e+01 ... -5.07050552e+01\n",
      "   -5.62513008e+01 -7.19401245e+01]\n",
      "  [ 1.15529327e+02  1.15526894e+02  1.11963295e+02 ...  1.09191902e+02\n",
      "    1.10912933e+02  1.14873215e+02]\n",
      "  [-1.53583946e+01 -1.93084564e+01 -2.05800152e+01 ... -3.07154388e+01\n",
      "   -2.43173752e+01 -2.19332924e+01]\n",
      "  ...\n",
      "  [ 5.87025248e-02  7.29793310e-02  4.05258131e+00 ... -3.06478477e+00\n",
      "   -5.45958519e+00  6.52327657e-01]\n",
      "  [-5.05783939e+00 -7.14266586e+00 -5.23456478e+00 ... -4.93456268e+00\n",
      "   -6.92747498e+00 -4.34662247e+00]\n",
      "  [-6.90808892e-01 -1.80388427e+00 -2.25041056e+00 ...  5.87749481e+00\n",
      "    5.11141300e+00  2.44653463e+00]]\n",
      "\n",
      " ...\n",
      "\n",
      " [[-1.61382980e+02 -1.35506287e+02 -1.37847778e+02 ... -6.30255493e+02\n",
      "   -6.30255493e+02 -6.30255493e+02]\n",
      "  [ 1.02130539e+02  9.62510452e+01  9.47308807e+01 ...  0.00000000e+00\n",
      "    0.00000000e+00  0.00000000e+00]\n",
      "  [-2.67866383e+01 -3.11658630e+01 -3.50530014e+01 ...  0.00000000e+00\n",
      "    0.00000000e+00  0.00000000e+00]\n",
      "  ...\n",
      "  [ 4.05858374e+00  1.42709410e+00 -6.55094981e-01 ...  0.00000000e+00\n",
      "    0.00000000e+00  0.00000000e+00]\n",
      "  [ 5.70836735e+00  5.70524073e+00  8.28034306e+00 ...  0.00000000e+00\n",
      "    0.00000000e+00  0.00000000e+00]\n",
      "  [ 6.75720882e+00  2.95019817e+00 -1.57580864e+00 ...  0.00000000e+00\n",
      "    0.00000000e+00  0.00000000e+00]]\n",
      "\n",
      " [[-1.28476517e+02 -9.47223434e+01 -9.04446030e+01 ... -6.20576111e+02\n",
      "   -6.20576111e+02 -6.20576111e+02]\n",
      "  [ 1.00777756e+02  1.03577904e+02  1.03909241e+02 ...  0.00000000e+00\n",
      "    0.00000000e+00  0.00000000e+00]\n",
      "  [-5.50896988e+01 -5.72315369e+01 -5.69775620e+01 ...  0.00000000e+00\n",
      "    0.00000000e+00  0.00000000e+00]\n",
      "  ...\n",
      "  [ 2.93353319e+00  7.23262250e-01 -7.94794083e-01 ...  0.00000000e+00\n",
      "    0.00000000e+00  0.00000000e+00]\n",
      "  [ 6.78822851e+00  6.51380777e+00  3.10620618e+00 ...  0.00000000e+00\n",
      "    0.00000000e+00  0.00000000e+00]\n",
      "  [-3.49627447e+00 -3.28207135e-01  1.94430232e+00 ...  0.00000000e+00\n",
      "    0.00000000e+00  0.00000000e+00]]\n",
      "\n",
      " [[-9.36272202e+01 -5.96676292e+01 -5.53213768e+01 ... -6.46303345e+02\n",
      "   -6.46303345e+02 -6.46303345e+02]\n",
      "  [ 9.15390778e+01  9.55720062e+01  9.69347839e+01 ...  0.00000000e+00\n",
      "    0.00000000e+00  0.00000000e+00]\n",
      "  [-9.83583546e+00 -1.37217598e+01 -1.03359585e+01 ...  0.00000000e+00\n",
      "    0.00000000e+00  0.00000000e+00]\n",
      "  ...\n",
      "  [ 4.72874117e+00  7.56057167e+00  5.31831312e+00 ...  0.00000000e+00\n",
      "    0.00000000e+00  0.00000000e+00]\n",
      "  [ 6.06376290e-01  4.95224762e+00  3.98220038e+00 ...  0.00000000e+00\n",
      "    0.00000000e+00  0.00000000e+00]\n",
      "  [-3.53941250e+00  2.45673108e+00  3.39766264e+00 ...  0.00000000e+00\n",
      "    0.00000000e+00  0.00000000e+00]]]\n",
      "['dog_bark' 'children_playing' 'children_playing' ... 'car_horn'\n",
      " 'car_horn' 'car_horn']\n"
     ]
    }
   ],
   "source": [
    "print(X_mfcc)\n",
    "print(y_mfcc)"
   ]
  },
  {
   "cell_type": "code",
   "execution_count": 33,
   "id": "643ab3d1",
   "metadata": {
    "scrolled": true
   },
   "outputs": [
    {
     "name": "stdout",
     "output_type": "stream",
     "text": [
      "[[[1.2308871e-05 4.2466436e-05 6.0785533e-05 ... 0.0000000e+00\n",
      "   0.0000000e+00 0.0000000e+00]\n",
      "  [8.3182931e-05 2.7938574e-04 3.0979057e-04 ... 0.0000000e+00\n",
      "   0.0000000e+00 0.0000000e+00]\n",
      "  [3.2063945e-05 2.1931718e-04 1.4684809e-03 ... 0.0000000e+00\n",
      "   0.0000000e+00 0.0000000e+00]\n",
      "  ...\n",
      "  [9.2768923e-06 6.4633624e-04 5.9808036e-03 ... 0.0000000e+00\n",
      "   0.0000000e+00 0.0000000e+00]\n",
      "  [1.3100485e-05 1.2226630e-03 7.1284855e-03 ... 0.0000000e+00\n",
      "   0.0000000e+00 0.0000000e+00]\n",
      "  [1.0020645e-05 7.2205649e-04 4.4867429e-03 ... 0.0000000e+00\n",
      "   0.0000000e+00 0.0000000e+00]]\n",
      "\n",
      " [[4.8946110e-03 1.7824769e-02 1.0430658e-02 ... 7.8991074e-03\n",
      "   1.0349952e-02 0.0000000e+00]\n",
      "  [4.2761010e-03 1.4557592e-02 1.1861739e-02 ... 1.3038162e-02\n",
      "   9.3045430e-03 0.0000000e+00]\n",
      "  [1.1906009e-03 2.9352750e-03 4.1454653e-03 ... 6.4535723e-03\n",
      "   3.2802902e-03 0.0000000e+00]\n",
      "  ...\n",
      "  [1.0068187e-06 1.6528538e-06 1.8550181e-06 ... 6.8400527e-06\n",
      "   5.5884807e-06 0.0000000e+00]\n",
      "  [6.1144925e-07 1.0533809e-06 1.2784138e-06 ... 3.3883109e-06\n",
      "   1.6607776e-06 0.0000000e+00]\n",
      "  [5.4869139e-07 1.1413134e-06 1.7117736e-06 ... 2.0563839e-06\n",
      "   1.4335623e-06 0.0000000e+00]]\n",
      "\n",
      " [[3.6483726e-03 2.3181919e-02 3.3161376e-02 ... 1.6249370e-02\n",
      "   1.2010463e-02 0.0000000e+00]\n",
      "  [8.4434813e-03 2.3020275e-02 1.0157788e-02 ... 7.1121594e-03\n",
      "   9.7631468e-03 0.0000000e+00]\n",
      "  [2.3411403e-03 2.9352109e-03 9.1953104e-04 ... 2.8815072e-03\n",
      "   3.0424392e-03 0.0000000e+00]\n",
      "  ...\n",
      "  [2.7394267e-07 4.1141035e-07 3.4225002e-07 ... 6.5769188e-07\n",
      "   5.7908437e-07 0.0000000e+00]\n",
      "  [2.9064432e-07 4.0177792e-07 3.1656361e-07 ... 6.8677781e-07\n",
      "   3.9191121e-07 0.0000000e+00]\n",
      "  [1.9965078e-07 1.9473234e-07 1.4663706e-07 ... 6.1673279e-07\n",
      "   3.2116381e-07 0.0000000e+00]]\n",
      "\n",
      " ...\n",
      "\n",
      " [[9.9481046e-03 1.5844727e-02 8.0320705e-03 ... 0.0000000e+00\n",
      "   0.0000000e+00 0.0000000e+00]\n",
      "  [1.6713141e-02 3.2493226e-02 2.3664299e-02 ... 0.0000000e+00\n",
      "   0.0000000e+00 0.0000000e+00]\n",
      "  [4.3286640e-02 9.5666952e-02 1.1520008e-01 ... 0.0000000e+00\n",
      "   0.0000000e+00 0.0000000e+00]\n",
      "  ...\n",
      "  [2.0543695e-05 2.7708205e-05 2.3679955e-05 ... 0.0000000e+00\n",
      "   0.0000000e+00 0.0000000e+00]\n",
      "  [4.1377694e-05 7.3177507e-05 6.5264154e-05 ... 0.0000000e+00\n",
      "   0.0000000e+00 0.0000000e+00]\n",
      "  [2.3200266e-05 4.3997123e-05 3.4064466e-05 ... 0.0000000e+00\n",
      "   0.0000000e+00 0.0000000e+00]]\n",
      "\n",
      " [[4.6882792e-03 2.2206658e-02 3.5482168e-02 ... 0.0000000e+00\n",
      "   0.0000000e+00 0.0000000e+00]\n",
      "  [6.2045213e-03 1.5862057e-02 1.8783212e-02 ... 0.0000000e+00\n",
      "   0.0000000e+00 0.0000000e+00]\n",
      "  [5.9230193e-03 1.8191073e-02 1.0875919e-02 ... 0.0000000e+00\n",
      "   0.0000000e+00 0.0000000e+00]\n",
      "  ...\n",
      "  [6.6215580e-07 1.5100451e-06 2.5177546e-06 ... 0.0000000e+00\n",
      "   0.0000000e+00 0.0000000e+00]\n",
      "  [1.1771472e-06 2.5577037e-06 3.4282662e-06 ... 0.0000000e+00\n",
      "   0.0000000e+00 0.0000000e+00]\n",
      "  [1.8157906e-06 3.4060392e-06 2.8760057e-06 ... 0.0000000e+00\n",
      "   0.0000000e+00 0.0000000e+00]]\n",
      "\n",
      " [[2.0688249e-02 4.5372672e-02 6.1987016e-02 ... 0.0000000e+00\n",
      "   0.0000000e+00 0.0000000e+00]\n",
      "  [8.1375219e-02 1.8441662e-01 2.3087780e-01 ... 0.0000000e+00\n",
      "   0.0000000e+00 0.0000000e+00]\n",
      "  [9.3227334e-02 1.4580499e-01 1.7579730e-01 ... 0.0000000e+00\n",
      "   0.0000000e+00 0.0000000e+00]\n",
      "  ...\n",
      "  [2.8467419e-05 4.2522042e-05 4.1002379e-05 ... 0.0000000e+00\n",
      "   0.0000000e+00 0.0000000e+00]\n",
      "  [2.7605003e-05 4.0009534e-05 3.8038968e-05 ... 0.0000000e+00\n",
      "   0.0000000e+00 0.0000000e+00]\n",
      "  [1.5720590e-05 2.6352347e-05 2.2474789e-05 ... 0.0000000e+00\n",
      "   0.0000000e+00 0.0000000e+00]]]\n",
      "['dog_bark' 'children_playing' 'children_playing' ... 'car_horn'\n",
      " 'car_horn' 'car_horn']\n"
     ]
    }
   ],
   "source": [
    "print(X_mels)\n",
    "print(y_mels)"
   ]
  },
  {
   "cell_type": "markdown",
   "id": "676bccb7",
   "metadata": {},
   "source": [
    "## Building dataframes and saving them"
   ]
  },
  {
   "cell_type": "code",
   "execution_count": 42,
   "id": "b743dba4",
   "metadata": {},
   "outputs": [],
   "source": [
    "df_mfcc = pd.DataFrame({\n",
    "    'audio_name' : audios_mfcc,\n",
    "    'fold': folds_mfcc,\n",
    "    'mfcc_features': list(X_mfcc), \n",
    "    'class': list(y_mfcc)\n",
    "})\n",
    "df_mfcc.to_csv('df_features_mfcc.csv', index=False)"
   ]
  },
  {
   "cell_type": "code",
   "execution_count": 43,
   "id": "d13dd089",
   "metadata": {},
   "outputs": [
    {
     "data": {
      "text/html": [
       "<div>\n",
       "<style scoped>\n",
       "    .dataframe tbody tr th:only-of-type {\n",
       "        vertical-align: middle;\n",
       "    }\n",
       "\n",
       "    .dataframe tbody tr th {\n",
       "        vertical-align: top;\n",
       "    }\n",
       "\n",
       "    .dataframe thead th {\n",
       "        text-align: right;\n",
       "    }\n",
       "</style>\n",
       "<table border=\"1\" class=\"dataframe\">\n",
       "  <thead>\n",
       "    <tr style=\"text-align: right;\">\n",
       "      <th></th>\n",
       "      <th>audio_name</th>\n",
       "      <th>fold</th>\n",
       "      <th>mfcc_features</th>\n",
       "      <th>class</th>\n",
       "    </tr>\n",
       "  </thead>\n",
       "  <tbody>\n",
       "    <tr>\n",
       "      <th>0</th>\n",
       "      <td>100032-3-0-0.wav</td>\n",
       "      <td>5</td>\n",
       "      <td>[[-366.4465, -216.54416, -144.94957, -116.9548...</td>\n",
       "      <td>dog_bark</td>\n",
       "    </tr>\n",
       "    <tr>\n",
       "      <th>1</th>\n",
       "      <td>100263-2-0-117.wav</td>\n",
       "      <td>5</td>\n",
       "      <td>[[-154.01591, -111.95642, -105.551506, -101.69...</td>\n",
       "      <td>children_playing</td>\n",
       "    </tr>\n",
       "    <tr>\n",
       "      <th>2</th>\n",
       "      <td>100263-2-0-121.wav</td>\n",
       "      <td>5</td>\n",
       "      <td>[[-94.72036, -69.07083, -77.96084, -85.90013, ...</td>\n",
       "      <td>children_playing</td>\n",
       "    </tr>\n",
       "    <tr>\n",
       "      <th>3</th>\n",
       "      <td>100263-2-0-126.wav</td>\n",
       "      <td>5</td>\n",
       "      <td>[[-122.38601, -88.0524, -83.36347, -80.72584, ...</td>\n",
       "      <td>children_playing</td>\n",
       "    </tr>\n",
       "    <tr>\n",
       "      <th>4</th>\n",
       "      <td>100263-2-0-137.wav</td>\n",
       "      <td>5</td>\n",
       "      <td>[[-65.18394, -29.578827, -34.004158, -32.0283,...</td>\n",
       "      <td>children_playing</td>\n",
       "    </tr>\n",
       "    <tr>\n",
       "      <th>...</th>\n",
       "      <td>...</td>\n",
       "      <td>...</td>\n",
       "      <td>...</td>\n",
       "      <td>...</td>\n",
       "    </tr>\n",
       "    <tr>\n",
       "      <th>8727</th>\n",
       "      <td>99812-1-2-0.wav</td>\n",
       "      <td>7</td>\n",
       "      <td>[[-78.52153, -49.26837, -52.210125, -51.74183,...</td>\n",
       "      <td>car_horn</td>\n",
       "    </tr>\n",
       "    <tr>\n",
       "      <th>8728</th>\n",
       "      <td>99812-1-3-0.wav</td>\n",
       "      <td>7</td>\n",
       "      <td>[[-267.6414, -240.91487, -237.93944, -233.5666...</td>\n",
       "      <td>car_horn</td>\n",
       "    </tr>\n",
       "    <tr>\n",
       "      <th>8729</th>\n",
       "      <td>99812-1-4-0.wav</td>\n",
       "      <td>7</td>\n",
       "      <td>[[-161.38298, -135.50629, -137.84778, -134.388...</td>\n",
       "      <td>car_horn</td>\n",
       "    </tr>\n",
       "    <tr>\n",
       "      <th>8730</th>\n",
       "      <td>99812-1-5-0.wav</td>\n",
       "      <td>7</td>\n",
       "      <td>[[-128.47652, -94.72234, -90.4446, -88.5239, -...</td>\n",
       "      <td>car_horn</td>\n",
       "    </tr>\n",
       "    <tr>\n",
       "      <th>8731</th>\n",
       "      <td>99812-1-6-0.wav</td>\n",
       "      <td>7</td>\n",
       "      <td>[[-93.62722, -59.66763, -55.321377, -56.74058,...</td>\n",
       "      <td>car_horn</td>\n",
       "    </tr>\n",
       "  </tbody>\n",
       "</table>\n",
       "<p>8732 rows × 4 columns</p>\n",
       "</div>"
      ],
      "text/plain": [
       "              audio_name  fold  \\\n",
       "0       100032-3-0-0.wav     5   \n",
       "1     100263-2-0-117.wav     5   \n",
       "2     100263-2-0-121.wav     5   \n",
       "3     100263-2-0-126.wav     5   \n",
       "4     100263-2-0-137.wav     5   \n",
       "...                  ...   ...   \n",
       "8727     99812-1-2-0.wav     7   \n",
       "8728     99812-1-3-0.wav     7   \n",
       "8729     99812-1-4-0.wav     7   \n",
       "8730     99812-1-5-0.wav     7   \n",
       "8731     99812-1-6-0.wav     7   \n",
       "\n",
       "                                          mfcc_features             class  \n",
       "0     [[-366.4465, -216.54416, -144.94957, -116.9548...          dog_bark  \n",
       "1     [[-154.01591, -111.95642, -105.551506, -101.69...  children_playing  \n",
       "2     [[-94.72036, -69.07083, -77.96084, -85.90013, ...  children_playing  \n",
       "3     [[-122.38601, -88.0524, -83.36347, -80.72584, ...  children_playing  \n",
       "4     [[-65.18394, -29.578827, -34.004158, -32.0283,...  children_playing  \n",
       "...                                                 ...               ...  \n",
       "8727  [[-78.52153, -49.26837, -52.210125, -51.74183,...          car_horn  \n",
       "8728  [[-267.6414, -240.91487, -237.93944, -233.5666...          car_horn  \n",
       "8729  [[-161.38298, -135.50629, -137.84778, -134.388...          car_horn  \n",
       "8730  [[-128.47652, -94.72234, -90.4446, -88.5239, -...          car_horn  \n",
       "8731  [[-93.62722, -59.66763, -55.321377, -56.74058,...          car_horn  \n",
       "\n",
       "[8732 rows x 4 columns]"
      ]
     },
     "execution_count": 43,
     "metadata": {},
     "output_type": "execute_result"
    }
   ],
   "source": [
    "df_mfcc"
   ]
  },
  {
   "cell_type": "code",
   "execution_count": 44,
   "id": "8c50a26b",
   "metadata": {},
   "outputs": [],
   "source": [
    "df_mels = pd.DataFrame({\n",
    "    'audio_name' : audios_mels,\n",
    "    'fold': folds_mels,\n",
    "    'mels_features': list(X_mels),\n",
    "    'class': list(y_mels)\n",
    "})\n",
    "df_mels.to_csv('df_features_mels.csv', index=False)"
   ]
  },
  {
   "cell_type": "code",
   "execution_count": 45,
   "id": "ca4c7eaf",
   "metadata": {},
   "outputs": [
    {
     "data": {
      "text/html": [
       "<div>\n",
       "<style scoped>\n",
       "    .dataframe tbody tr th:only-of-type {\n",
       "        vertical-align: middle;\n",
       "    }\n",
       "\n",
       "    .dataframe tbody tr th {\n",
       "        vertical-align: top;\n",
       "    }\n",
       "\n",
       "    .dataframe thead th {\n",
       "        text-align: right;\n",
       "    }\n",
       "</style>\n",
       "<table border=\"1\" class=\"dataframe\">\n",
       "  <thead>\n",
       "    <tr style=\"text-align: right;\">\n",
       "      <th></th>\n",
       "      <th>audio_name</th>\n",
       "      <th>fold</th>\n",
       "      <th>mels_features</th>\n",
       "      <th>class</th>\n",
       "    </tr>\n",
       "  </thead>\n",
       "  <tbody>\n",
       "    <tr>\n",
       "      <th>0</th>\n",
       "      <td>100032-3-0-0.wav</td>\n",
       "      <td>5</td>\n",
       "      <td>[[1.2308871e-05, 4.2466436e-05, 6.0785533e-05,...</td>\n",
       "      <td>dog_bark</td>\n",
       "    </tr>\n",
       "    <tr>\n",
       "      <th>1</th>\n",
       "      <td>100263-2-0-117.wav</td>\n",
       "      <td>5</td>\n",
       "      <td>[[0.004894611, 0.017824769, 0.010430658, 0.011...</td>\n",
       "      <td>children_playing</td>\n",
       "    </tr>\n",
       "    <tr>\n",
       "      <th>2</th>\n",
       "      <td>100263-2-0-121.wav</td>\n",
       "      <td>5</td>\n",
       "      <td>[[0.0036483726, 0.023181919, 0.033161376, 0.01...</td>\n",
       "      <td>children_playing</td>\n",
       "    </tr>\n",
       "    <tr>\n",
       "      <th>3</th>\n",
       "      <td>100263-2-0-126.wav</td>\n",
       "      <td>5</td>\n",
       "      <td>[[0.020011032, 0.022492325, 0.009780144, 0.011...</td>\n",
       "      <td>children_playing</td>\n",
       "    </tr>\n",
       "    <tr>\n",
       "      <th>4</th>\n",
       "      <td>100263-2-0-137.wav</td>\n",
       "      <td>5</td>\n",
       "      <td>[[0.007865253, 0.023277398, 0.02228943, 0.0166...</td>\n",
       "      <td>children_playing</td>\n",
       "    </tr>\n",
       "    <tr>\n",
       "      <th>...</th>\n",
       "      <td>...</td>\n",
       "      <td>...</td>\n",
       "      <td>...</td>\n",
       "      <td>...</td>\n",
       "    </tr>\n",
       "    <tr>\n",
       "      <th>8727</th>\n",
       "      <td>99812-1-2-0.wav</td>\n",
       "      <td>7</td>\n",
       "      <td>[[0.0013995696, 0.0035172817, 0.008961399, 0.0...</td>\n",
       "      <td>car_horn</td>\n",
       "    </tr>\n",
       "    <tr>\n",
       "      <th>8728</th>\n",
       "      <td>99812-1-3-0.wav</td>\n",
       "      <td>7</td>\n",
       "      <td>[[0.015217509, 0.01956065, 0.0065647513, 0.004...</td>\n",
       "      <td>car_horn</td>\n",
       "    </tr>\n",
       "    <tr>\n",
       "      <th>8729</th>\n",
       "      <td>99812-1-4-0.wav</td>\n",
       "      <td>7</td>\n",
       "      <td>[[0.009948105, 0.015844727, 0.0080320705, 0.04...</td>\n",
       "      <td>car_horn</td>\n",
       "    </tr>\n",
       "    <tr>\n",
       "      <th>8730</th>\n",
       "      <td>99812-1-5-0.wav</td>\n",
       "      <td>7</td>\n",
       "      <td>[[0.0046882792, 0.022206658, 0.03548217, 0.032...</td>\n",
       "      <td>car_horn</td>\n",
       "    </tr>\n",
       "    <tr>\n",
       "      <th>8731</th>\n",
       "      <td>99812-1-6-0.wav</td>\n",
       "      <td>7</td>\n",
       "      <td>[[0.020688249, 0.045372672, 0.061987016, 0.042...</td>\n",
       "      <td>car_horn</td>\n",
       "    </tr>\n",
       "  </tbody>\n",
       "</table>\n",
       "<p>8732 rows × 4 columns</p>\n",
       "</div>"
      ],
      "text/plain": [
       "              audio_name  fold  \\\n",
       "0       100032-3-0-0.wav     5   \n",
       "1     100263-2-0-117.wav     5   \n",
       "2     100263-2-0-121.wav     5   \n",
       "3     100263-2-0-126.wav     5   \n",
       "4     100263-2-0-137.wav     5   \n",
       "...                  ...   ...   \n",
       "8727     99812-1-2-0.wav     7   \n",
       "8728     99812-1-3-0.wav     7   \n",
       "8729     99812-1-4-0.wav     7   \n",
       "8730     99812-1-5-0.wav     7   \n",
       "8731     99812-1-6-0.wav     7   \n",
       "\n",
       "                                          mels_features             class  \n",
       "0     [[1.2308871e-05, 4.2466436e-05, 6.0785533e-05,...          dog_bark  \n",
       "1     [[0.004894611, 0.017824769, 0.010430658, 0.011...  children_playing  \n",
       "2     [[0.0036483726, 0.023181919, 0.033161376, 0.01...  children_playing  \n",
       "3     [[0.020011032, 0.022492325, 0.009780144, 0.011...  children_playing  \n",
       "4     [[0.007865253, 0.023277398, 0.02228943, 0.0166...  children_playing  \n",
       "...                                                 ...               ...  \n",
       "8727  [[0.0013995696, 0.0035172817, 0.008961399, 0.0...          car_horn  \n",
       "8728  [[0.015217509, 0.01956065, 0.0065647513, 0.004...          car_horn  \n",
       "8729  [[0.009948105, 0.015844727, 0.0080320705, 0.04...          car_horn  \n",
       "8730  [[0.0046882792, 0.022206658, 0.03548217, 0.032...          car_horn  \n",
       "8731  [[0.020688249, 0.045372672, 0.061987016, 0.042...          car_horn  \n",
       "\n",
       "[8732 rows x 4 columns]"
      ]
     },
     "execution_count": 45,
     "metadata": {},
     "output_type": "execute_result"
    }
   ],
   "source": [
    "df_mels"
   ]
  }
 ],
 "metadata": {
  "kernelspec": {
   "display_name": "Python 3 (ipykernel)",
   "language": "python",
   "name": "python3"
  },
  "language_info": {
   "codemirror_mode": {
    "name": "ipython",
    "version": 3
   },
   "file_extension": ".py",
   "mimetype": "text/x-python",
   "name": "python",
   "nbconvert_exporter": "python",
   "pygments_lexer": "ipython3",
   "version": "3.11.5"
  }
 },
 "nbformat": 4,
 "nbformat_minor": 5
}
